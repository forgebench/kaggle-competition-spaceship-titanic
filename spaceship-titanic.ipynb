{
 "cells": [
  {
   "cell_type": "markdown",
   "source": [
    "# This is the Spaceship Titanic\n",
    "## Kaggle Competition\n",
    "\n",
    "### 1. Assemble the data\n",
    "### 2. Visualize, shape, and engineer it\n",
    "### 3. Train a model\n",
    "### 4. Predict and submit"
   ],
   "metadata": {
    "collapsed": false
   }
  },
  {
   "cell_type": "markdown",
   "source": [
    "### 1. Assemble the data\n",
    "\n",
    "Data description:\n",
    "\n",
    "PassengerId - A unique Id for each passenger. Each Id takes the form gggg_pp where gggg indicates a group the passenger is travelling with and pp is their number within the group. People in a group are often family members, but not always.\n",
    "\n",
    "HomePlanet - The planet the passenger departed from, typically their planet of permanent residence.\n",
    "\n",
    "CryoSleep - Indicates whether the passenger elected to be put into suspended animation for the duration of the voyage. Passengers in cryosleep are confined to their cabins.\n",
    "\n",
    "Cabin - The cabin number where the passenger is staying. Takes the form deck/num/side, where side can be either P for Port or S for Starboard.\n",
    "\n",
    "Destination - The planet the passenger will be debarking to.\n",
    "\n",
    "Age - The age of the passenger.\n",
    "\n",
    "VIP - Whether the passenger has paid for special VIP service during the voyage.\n",
    "\n",
    "RoomService, FoodCourt, ShoppingMall, Spa, VRDeck - Amount the passenger has billed at each of the Spaceship Titanic's many luxury amenities.\n",
    "\n",
    "Name - The first and last names of the passenger.\n",
    "\n",
    "Transported - Whether the passenger was transported to another dimension. This is the target, the column you are trying to predict."
   ],
   "metadata": {
    "collapsed": false
   }
  },
  {
   "cell_type": "code",
   "execution_count": 324,
   "outputs": [],
   "source": [
    "import numpy as np\n",
    "import pandas as pd\n",
    "import matplotlib.pyplot as plt"
   ],
   "metadata": {
    "collapsed": false
   }
  },
  {
   "cell_type": "code",
   "execution_count": 325,
   "outputs": [],
   "source": [
    "df = pd.read_csv('train.csv')"
   ],
   "metadata": {
    "collapsed": false
   }
  },
  {
   "cell_type": "markdown",
   "source": [
    "### 2. Visualize, shape, and engineer the data"
   ],
   "metadata": {
    "collapsed": false
   }
  },
  {
   "cell_type": "code",
   "execution_count": 326,
   "outputs": [
    {
     "name": "stdout",
     "output_type": "stream",
     "text": [
      "<class 'pandas.core.frame.DataFrame'>\n",
      "RangeIndex: 8693 entries, 0 to 8692\n",
      "Data columns (total 14 columns):\n",
      " #   Column        Non-Null Count  Dtype  \n",
      "---  ------        --------------  -----  \n",
      " 0   PassengerId   8693 non-null   object \n",
      " 1   HomePlanet    8492 non-null   object \n",
      " 2   CryoSleep     8476 non-null   object \n",
      " 3   Cabin         8494 non-null   object \n",
      " 4   Destination   8511 non-null   object \n",
      " 5   Age           8514 non-null   float64\n",
      " 6   VIP           8490 non-null   object \n",
      " 7   RoomService   8512 non-null   float64\n",
      " 8   FoodCourt     8510 non-null   float64\n",
      " 9   ShoppingMall  8485 non-null   float64\n",
      " 10  Spa           8510 non-null   float64\n",
      " 11  VRDeck        8505 non-null   float64\n",
      " 12  Name          8493 non-null   object \n",
      " 13  Transported   8693 non-null   bool   \n",
      "dtypes: bool(1), float64(6), object(7)\n",
      "memory usage: 891.5+ KB\n"
     ]
    }
   ],
   "source": [
    "df.info()"
   ],
   "metadata": {
    "collapsed": false
   }
  },
  {
   "cell_type": "code",
   "execution_count": 327,
   "outputs": [
    {
     "data": {
      "text/plain": "False    5439\nTrue     3037\nName: CryoSleep, dtype: int64"
     },
     "execution_count": 327,
     "metadata": {},
     "output_type": "execute_result"
    }
   ],
   "source": [
    "df['CryoSleep'].value_counts()"
   ],
   "metadata": {
    "collapsed": false
   }
  },
  {
   "cell_type": "code",
   "execution_count": 328,
   "outputs": [
    {
     "data": {
      "text/plain": "False    8291\nTrue      199\nName: VIP, dtype: int64"
     },
     "execution_count": 328,
     "metadata": {},
     "output_type": "execute_result"
    }
   ],
   "source": [
    "df['VIP'].value_counts()"
   ],
   "metadata": {
    "collapsed": false
   }
  },
  {
   "cell_type": "code",
   "execution_count": 329,
   "outputs": [
    {
     "data": {
      "text/plain": "Earth     4602\nEuropa    2131\nMars      1759\nName: HomePlanet, dtype: int64"
     },
     "execution_count": 329,
     "metadata": {},
     "output_type": "execute_result"
    }
   ],
   "source": [
    "df['HomePlanet'].value_counts()"
   ],
   "metadata": {
    "collapsed": false
   }
  },
  {
   "cell_type": "markdown",
   "source": [
    "### Data findings:\n",
    "\n",
    "- 8693 total passengers in this set. Null values are located in every column except 'PassengerId' and the target 'Transported.'\n",
    "- Passenger groups should be compared and if NaNs are found in groups then set those NaNs to the same as the others in the group, except for expenditure. Expenditure NaN should be set to 0 because we are assuming these groups might have children and just the parents paid. 'Age' will be set to mean.\n",
    "- Else, 'CryoSleep' and 'VIP' null values will be set to False since that's the most common.\n",
    "- NOTE: nan values appear to be floats. Will convert to 'nan' string for comparison.\n",
    "- 'PassengerID' can be engineered since it tells us if they were in a group. Passengers in a group were probably more likely to be transported together.\n",
    "- 'HomePlanet' probably useless but it's possible they're grouped together.\n",
    "- 'CryoSleep' is important since they might be in the cabin, or if they're out and about.\n",
    "- 'Cabin' will need to be feature engineered since it contains several features and is useless in it's current state. It contains valuable data though since once it's split into three values (deck, number, side) we'll be able to pinpoint where the space anomaly hit the ship.\n",
    "- 'Destination' is probably useless but it might be possible they're grouped together on the ship.\n",
    "- 'Age', 'VIP', and all expenditures will be pd.dummied or normalized.\n",
    "- 'Name' is useless since it's unique for every passenger and will be removed."
   ],
   "metadata": {
    "collapsed": false
   }
  },
  {
   "cell_type": "code",
   "execution_count": 390,
   "outputs": [],
   "source": [
    "# Preprocess data\n",
    "def preprocess(passed_df):\n",
    "\n",
    "    def remove_useless_columns(passed_df):\n",
    "        # We'll remove the useless features\n",
    "        useless_columns = ['Name']\n",
    "        passed_df = passed_df.drop(useless_columns, axis=1)\n",
    "\n",
    "        return passed_df\n",
    "\n",
    "    def pass_id_group(passed_df):\n",
    "        # We'll remove the passenger number and just leave the group number\n",
    "        for row in passed_df.index:\n",
    "            raw_id = str(passed_df.at[row, 'PassengerId'])\n",
    "            fixed_id = raw_id.split('_')\n",
    "            fixed_id = fixed_id.pop(0)\n",
    "            passed_df.at[row, 'PassengerId'] = int(fixed_id)\n",
    "        passed_df.rename(columns={'PassengerId': 'PassengerGroup'}, inplace=True)\n",
    "\n",
    "        return passed_df\n",
    "\n",
    "    def fix_null_values(passed_df):\n",
    "        # Expenditure columns will be zeroed since we assume families spent together and can't guess otherwise.\n",
    "        columns_to_zero = ['RoomService', 'FoodCourt', 'ShoppingMall', 'Spa', 'VRDeck']\n",
    "        print('Filling ', columns_to_zero, 'nan values with 0.')\n",
    "        passed_df[columns_to_zero] = passed_df[columns_to_zero].fillna(value=0)\n",
    "        # Next we'll take a look at the rest of the columns that have nulls, except age which will be .mean(). These columns will have their 'PassengerGroup' searched for non-null values and if they have a group with the same values available then they will be filled with that. Otherwise they'll be given 'missing' or 0 depending on which column.\n",
    "        columns_to_compare = ['HomePlanet', 'CryoSleep', 'Cabin', 'Destination', 'VIP']\n",
    "        for column in columns_to_compare:\n",
    "            # We fill the missing float nan values that pandas gives us with a simple 'nan' string that makes comparison easy.\n",
    "            passed_df[column].fillna(value='nan', inplace=True)\n",
    "            # Including a counter for printing.\n",
    "            nan_values = 0\n",
    "            for row in passed_df.index:\n",
    "                value = passed_df.at[row, column]\n",
    "                if value == 'nan':\n",
    "                    nan_values += 1\n",
    "                    # Here we find the passenger group id and use it to create a small temporary Dataframe to search.\n",
    "                    group_id = passed_df.at[row, 'PassengerGroup']\n",
    "                    df_pass_groups = passed_df.loc[passed_df['PassengerGroup'] == group_id]\n",
    "                    # We check here if there are others in their group. If not then we just fill with 'missing' or 0.\n",
    "                    if len(df_pass_groups) > 1:\n",
    "                        for pass_rows in df_pass_groups.index:\n",
    "                            pass_value = df_pass_groups.at[pass_rows, column]\n",
    "                            # If others in the group have the proper value then it's captured and filled.\n",
    "                            if pass_value != 'nan':\n",
    "                                not_null_value = df_pass_groups.at[pass_rows, column]\n",
    "                        passed_df.at[row, column] = not_null_value\n",
    "                    # Here we fill 0 or 'missing' if we don't have a group to compare to.\n",
    "                    else:\n",
    "                        if column == 'VIP' or column == 'CryoSleep':\n",
    "                            passed_df.at[row, column] = 0\n",
    "                        else:\n",
    "                            passed_df.at[row, column] = 'missing'\n",
    "            print('Fixed', nan_values, 'values in', column, '.')\n",
    "        # Here we clean up any remaining problems.\n",
    "        passed_df['Age'].fillna(value=passed_df['Age'].mean(), inplace=True)\n",
    "        passed_df['CryoSleep'].fillna(value=0, inplace=True)\n",
    "        passed_df['VIP'].fillna(value=0, inplace=True)\n",
    "\n",
    "        return passed_df\n",
    "\n",
    "    def boolean_convert(passed_df):\n",
    "        # Here we'll just convert these two boolean columns to int. This isn't strictly necessary but it looks better when I view the dataframe.\n",
    "        passed_df['CryoSleep'] = passed_df['CryoSleep'].astype(int)\n",
    "        passed_df['VIP'] = passed_df['VIP'].astype(int)\n",
    "\n",
    "        return passed_df\n",
    "\n",
    "    def convert_cabins(passed_df):\n",
    "        # In this function we'll feature engineer the cabins and give them deck, cabin number, and side (port or starboard).\n",
    "        # There are 8 decks, represented as A, B, C, D, E, F, G, and T. We will rewrite these with their number.\n",
    "        # We will leave the cabin number as is.\n",
    "        # We will write port and starboard as 0 for port, 1 for starboard.\n",
    "        # Any 'missing' values will simply have 'missing' copied over and taken care of when we do the final preprocessing.\n",
    "        deck_dict = {'A': 1,\n",
    "                     'B': 2,\n",
    "                     'C': 3,\n",
    "                     'D': 4,\n",
    "                     'E': 5,\n",
    "                     'F': 6,\n",
    "                     'G': 7,\n",
    "                     'T': 8}\n",
    "        side_dict = {'P': 0,\n",
    "                     'S': 1}\n",
    "        not_missing = 0\n",
    "        missing = 0\n",
    "        for row in passed_df.index:\n",
    "            value = str(passed_df.at[row, 'Cabin'])\n",
    "            if value != 'missing':\n",
    "                not_missing += 1\n",
    "                value_list = value.split('/')\n",
    "                passed_df.at[row, 'Deck'] = int(deck_dict[value_list[0]])\n",
    "                passed_df.at[row, 'CabinNumber'] = int(value_list[1])\n",
    "                passed_df.at[row, 'Side'] = int(side_dict[value_list[2]])\n",
    "            elif value == 'missing':\n",
    "                missing += 1\n",
    "                passed_df.at[row, 'Deck'] = int(0)\n",
    "                passed_df.at[row, 'CabinNumber'] = int(0)\n",
    "                passed_df.at[row, 'Side'] = int(0)\n",
    "        # Remove the old 'Cabin' column\n",
    "        passed_df = passed_df.drop('Cabin', axis=1)\n",
    "        print(f'{not_missing} cabin values determined from Cabin feature, {missing} cabin values missing.')\n",
    "\n",
    "        return passed_df\n",
    "\n",
    "    # Call all the functions\n",
    "    df = remove_useless_columns(passed_df)\n",
    "    df = pass_id_group(df)\n",
    "    df = fix_null_values(df)\n",
    "    df = boolean_convert(df)\n",
    "    df = convert_cabins(df)\n",
    "\n",
    "    return df"
   ],
   "metadata": {
    "collapsed": false
   }
  },
  {
   "cell_type": "code",
   "execution_count": 331,
   "outputs": [
    {
     "name": "stdout",
     "output_type": "stream",
     "text": [
      "Filling  ['RoomService', 'FoodCourt', 'ShoppingMall', 'Spa', 'VRDeck'] nan values with 0.\n",
      "Fixed 201 values in HomePlanet .\n",
      "Fixed 217 values in CryoSleep .\n",
      "Fixed 199 values in Cabin .\n",
      "Fixed 182 values in Destination .\n",
      "Fixed 203 values in VIP .\n",
      "8594 values determined from groups, 99 values missing.\n"
     ]
    }
   ],
   "source": [
    "df = preprocess(df)"
   ],
   "metadata": {
    "collapsed": false
   }
  },
  {
   "cell_type": "code",
   "execution_count": 332,
   "outputs": [],
   "source": [
    "# Import the old df for comparison purposes.\n",
    "df_old = pd.read_csv('train.csv')"
   ],
   "metadata": {
    "collapsed": false
   }
  },
  {
   "cell_type": "code",
   "execution_count": 333,
   "outputs": [
    {
     "data": {
      "text/plain": "<AxesSubplot: >"
     },
     "execution_count": 333,
     "metadata": {},
     "output_type": "execute_result"
    },
    {
     "data": {
      "text/plain": "<Figure size 640x480 with 1 Axes>",
      "image/png": "[encoded data removed]"
     },
     "metadata": {},
     "output_type": "display_data"
    }
   ],
   "source": [
    "df.Side.value_counts().plot(kind='bar')\n",
    "df.Deck.value_counts().plot(kind='bar')"
   ],
   "metadata": {
    "collapsed": false
   }
  },
  {
   "cell_type": "code",
   "execution_count": 334,
   "outputs": [
    {
     "data": {
      "text/plain": "<AxesSubplot: ylabel='Frequency'>"
     },
     "execution_count": 334,
     "metadata": {},
     "output_type": "execute_result"
    },
    {
     "data": {
      "text/plain": "<Figure size 640x480 with 1 Axes>",
      "image/png": "[encoded data removed]"
     },
     "metadata": {},
     "output_type": "display_data"
    }
   ],
   "source": [
    "df.CabinNumber.value_counts().plot(kind='hist')"
   ],
   "metadata": {
    "collapsed": false
   }
  },
  {
   "cell_type": "markdown",
   "source": [
    "### 3. Train a model\n",
    "Let's start predicting!"
   ],
   "metadata": {
    "collapsed": false
   }
  },
  {
   "cell_type": "code",
   "execution_count": 335,
   "outputs": [],
   "source": [
    "# Function to transform the data to a readable version\n",
    "def transform_data(passed_X):\n",
    "    # We'll fit our categorical data with get_dummies()\n",
    "    categorical_features = ['HomePlanet', 'Destination', 'Deck', 'Side']\n",
    "    passed_X = pd.get_dummies(passed_X, prefix=categorical_features, columns=categorical_features)\n",
    "\n",
    "    return passed_X"
   ],
   "metadata": {
    "collapsed": false
   }
  },
  {
   "cell_type": "code",
   "execution_count": 372,
   "outputs": [
    {
     "data": {
      "text/plain": "0.8033352501437608"
     },
     "execution_count": 372,
     "metadata": {},
     "output_type": "execute_result"
    }
   ],
   "source": [
    "# We'll try the simple, stock RandomForestClassifier first.\n",
    "from sklearn.ensemble import RandomForestClassifier\n",
    "from sklearn.model_selection import train_test_split\n",
    "\n",
    "X = df.drop(['Transported'], axis=1)\n",
    "y = df['Transported']\n",
    "\n",
    "X = transform_data(X)\n",
    "X_train, X_test, y_train, y_test = train_test_split(X, y, test_size=0.2,\n",
    "                                                    random_state=42)\n",
    "\n",
    "clf = RandomForestClassifier(random_state=42, n_estimators=1000, min_samples_split=5,\n",
    "                             min_samples_leaf=5, max_features='sqrt', max_depth=15,\n",
    "                             n_jobs=-1)\n",
    "clf.fit(X_train, y_train)\n",
    "clf.score(X_test, y_test)"
   ],
   "metadata": {
    "collapsed": false
   }
  },
  {
   "cell_type": "code",
   "execution_count": 373,
   "outputs": [
    {
     "data": {
      "text/plain": "<Figure size 640x480 with 1 Axes>",
      "image/png": "[encoded data removed]"
     },
     "metadata": {},
     "output_type": "display_data"
    }
   ],
   "source": [
    "def plot_features(columns, importances, n=20):\n",
    "    df = (pd.DataFrame({'features': columns,\n",
    "                        'feature_importances': importances})\n",
    "          .sort_values('feature_importances', ascending=False)\n",
    "          .reset_index(drop=True)\n",
    "          )\n",
    "\n",
    "    fix, ax = plt.subplots()\n",
    "    ax.barh(df['features'][:n], df['feature_importances'][:n])\n",
    "    ax.set_ylabel(\"Features\")\n",
    "    ax.set_xlabel(\"Feature Importances\")\n",
    "    ax.invert_yaxis()\n",
    "\n",
    "\n",
    "plot_features(X.columns, clf.feature_importances_)"
   ],
   "metadata": {
    "collapsed": false
   }
  },
  {
   "cell_type": "markdown",
   "source": [
    "As suspected their location plays a big role since only part of the ship got hit (see 'CabinNumber'). Group plays a role since they were likely together. Expenditures play a role since it might have determined if they were in the cabin or not. CryoSleep for the same reason. Surprisingly decks didn't play a big role."
   ],
   "metadata": {
    "collapsed": false
   }
  },
  {
   "cell_type": "code",
   "execution_count": 339,
   "outputs": [
    {
     "ename": "KeyboardInterrupt",
     "evalue": "",
     "output_type": "error",
     "traceback": [
      "\u001B[1;31m---------------------------------------------------------------------------\u001B[0m",
      "\u001B[1;31mKeyboardInterrupt\u001B[0m                         Traceback (most recent call last)",
      "Cell \u001B[1;32mIn[339], line 11\u001B[0m\n\u001B[0;32m      4\u001B[0m tuning_params \u001B[38;5;241m=\u001B[39m {\u001B[38;5;124m'\u001B[39m\u001B[38;5;124mn_estimators\u001B[39m\u001B[38;5;124m'\u001B[39m: [\u001B[38;5;241m100\u001B[39m, \u001B[38;5;241m1000\u001B[39m, \u001B[38;5;241m5000\u001B[39m, \u001B[38;5;241m10000\u001B[39m],\n\u001B[0;32m      5\u001B[0m                  \u001B[38;5;124m'\u001B[39m\u001B[38;5;124mmax_depth\u001B[39m\u001B[38;5;124m'\u001B[39m: [\u001B[38;5;28;01mNone\u001B[39;00m, \u001B[38;5;241m3\u001B[39m, \u001B[38;5;241m5\u001B[39m],\n\u001B[0;32m      6\u001B[0m                  \u001B[38;5;124m'\u001B[39m\u001B[38;5;124mmin_samples_split\u001B[39m\u001B[38;5;124m'\u001B[39m:(\u001B[38;5;241m2\u001B[39m, \u001B[38;5;241m5\u001B[39m, \u001B[38;5;241m10\u001B[39m, \u001B[38;5;241m20\u001B[39m),\n\u001B[0;32m      7\u001B[0m                  \u001B[38;5;124m'\u001B[39m\u001B[38;5;124mmin_samples_leaf\u001B[39m\u001B[38;5;124m'\u001B[39m: (\u001B[38;5;241m2\u001B[39m, \u001B[38;5;241m5\u001B[39m, \u001B[38;5;241m10\u001B[39m, \u001B[38;5;241m20\u001B[39m),\n\u001B[0;32m      8\u001B[0m                  \u001B[38;5;124m'\u001B[39m\u001B[38;5;124mmax_features\u001B[39m\u001B[38;5;124m'\u001B[39m: [\u001B[38;5;241m0.5\u001B[39m, \u001B[38;5;241m1\u001B[39m, \u001B[38;5;124m\"\u001B[39m\u001B[38;5;124msqrt\u001B[39m\u001B[38;5;124m\"\u001B[39m]}\n\u001B[0;32m     10\u001B[0m gs_clf \u001B[38;5;241m=\u001B[39m GridSearchCV(estimator\u001B[38;5;241m=\u001B[39mclf, param_grid\u001B[38;5;241m=\u001B[39mtuning_params, cv\u001B[38;5;241m=\u001B[39m\u001B[38;5;241m3\u001B[39m, verbose\u001B[38;5;241m=\u001B[39m\u001B[38;5;241m0\u001B[39m, n_jobs\u001B[38;5;241m=\u001B[39m\u001B[38;5;241m-\u001B[39m\u001B[38;5;241m1\u001B[39m)\n\u001B[1;32m---> 11\u001B[0m \u001B[43mgs_clf\u001B[49m\u001B[38;5;241;43m.\u001B[39;49m\u001B[43mfit\u001B[49m\u001B[43m(\u001B[49m\u001B[43mX\u001B[49m\u001B[43m,\u001B[49m\u001B[43m \u001B[49m\u001B[43my\u001B[49m\u001B[43m)\u001B[49m\n",
      "File \u001B[1;32mH:\\kaggle\\spaceship-titanic\\venv\\lib\\site-packages\\sklearn\\model_selection\\_search.py:875\u001B[0m, in \u001B[0;36mBaseSearchCV.fit\u001B[1;34m(self, X, y, groups, **fit_params)\u001B[0m\n\u001B[0;32m    869\u001B[0m     results \u001B[38;5;241m=\u001B[39m \u001B[38;5;28mself\u001B[39m\u001B[38;5;241m.\u001B[39m_format_results(\n\u001B[0;32m    870\u001B[0m         all_candidate_params, n_splits, all_out, all_more_results\n\u001B[0;32m    871\u001B[0m     )\n\u001B[0;32m    873\u001B[0m     \u001B[38;5;28;01mreturn\u001B[39;00m results\n\u001B[1;32m--> 875\u001B[0m \u001B[38;5;28;43mself\u001B[39;49m\u001B[38;5;241;43m.\u001B[39;49m\u001B[43m_run_search\u001B[49m\u001B[43m(\u001B[49m\u001B[43mevaluate_candidates\u001B[49m\u001B[43m)\u001B[49m\n\u001B[0;32m    877\u001B[0m \u001B[38;5;66;03m# multimetric is determined here because in the case of a callable\u001B[39;00m\n\u001B[0;32m    878\u001B[0m \u001B[38;5;66;03m# self.scoring the return type is only known after calling\u001B[39;00m\n\u001B[0;32m    879\u001B[0m first_test_score \u001B[38;5;241m=\u001B[39m all_out[\u001B[38;5;241m0\u001B[39m][\u001B[38;5;124m\"\u001B[39m\u001B[38;5;124mtest_scores\u001B[39m\u001B[38;5;124m\"\u001B[39m]\n",
      "File \u001B[1;32mH:\\kaggle\\spaceship-titanic\\venv\\lib\\site-packages\\sklearn\\model_selection\\_search.py:1389\u001B[0m, in \u001B[0;36mGridSearchCV._run_search\u001B[1;34m(self, evaluate_candidates)\u001B[0m\n\u001B[0;32m   1387\u001B[0m \u001B[38;5;28;01mdef\u001B[39;00m \u001B[38;5;21m_run_search\u001B[39m(\u001B[38;5;28mself\u001B[39m, evaluate_candidates):\n\u001B[0;32m   1388\u001B[0m     \u001B[38;5;124;03m\"\"\"Search all candidates in param_grid\"\"\"\u001B[39;00m\n\u001B[1;32m-> 1389\u001B[0m     \u001B[43mevaluate_candidates\u001B[49m\u001B[43m(\u001B[49m\u001B[43mParameterGrid\u001B[49m\u001B[43m(\u001B[49m\u001B[38;5;28;43mself\u001B[39;49m\u001B[38;5;241;43m.\u001B[39;49m\u001B[43mparam_grid\u001B[49m\u001B[43m)\u001B[49m\u001B[43m)\u001B[49m\n",
      "File \u001B[1;32mH:\\kaggle\\spaceship-titanic\\venv\\lib\\site-packages\\sklearn\\model_selection\\_search.py:822\u001B[0m, in \u001B[0;36mBaseSearchCV.fit.<locals>.evaluate_candidates\u001B[1;34m(candidate_params, cv, more_results)\u001B[0m\n\u001B[0;32m    814\u001B[0m \u001B[38;5;28;01mif\u001B[39;00m \u001B[38;5;28mself\u001B[39m\u001B[38;5;241m.\u001B[39mverbose \u001B[38;5;241m>\u001B[39m \u001B[38;5;241m0\u001B[39m:\n\u001B[0;32m    815\u001B[0m     \u001B[38;5;28mprint\u001B[39m(\n\u001B[0;32m    816\u001B[0m         \u001B[38;5;124m\"\u001B[39m\u001B[38;5;124mFitting \u001B[39m\u001B[38;5;132;01m{0}\u001B[39;00m\u001B[38;5;124m folds for each of \u001B[39m\u001B[38;5;132;01m{1}\u001B[39;00m\u001B[38;5;124m candidates,\u001B[39m\u001B[38;5;124m\"\u001B[39m\n\u001B[0;32m    817\u001B[0m         \u001B[38;5;124m\"\u001B[39m\u001B[38;5;124m totalling \u001B[39m\u001B[38;5;132;01m{2}\u001B[39;00m\u001B[38;5;124m fits\u001B[39m\u001B[38;5;124m\"\u001B[39m\u001B[38;5;241m.\u001B[39mformat(\n\u001B[0;32m    818\u001B[0m             n_splits, n_candidates, n_candidates \u001B[38;5;241m*\u001B[39m n_splits\n\u001B[0;32m    819\u001B[0m         )\n\u001B[0;32m    820\u001B[0m     )\n\u001B[1;32m--> 822\u001B[0m out \u001B[38;5;241m=\u001B[39m \u001B[43mparallel\u001B[49m\u001B[43m(\u001B[49m\n\u001B[0;32m    823\u001B[0m \u001B[43m    \u001B[49m\u001B[43mdelayed\u001B[49m\u001B[43m(\u001B[49m\u001B[43m_fit_and_score\u001B[49m\u001B[43m)\u001B[49m\u001B[43m(\u001B[49m\n\u001B[0;32m    824\u001B[0m \u001B[43m        \u001B[49m\u001B[43mclone\u001B[49m\u001B[43m(\u001B[49m\u001B[43mbase_estimator\u001B[49m\u001B[43m)\u001B[49m\u001B[43m,\u001B[49m\n\u001B[0;32m    825\u001B[0m \u001B[43m        \u001B[49m\u001B[43mX\u001B[49m\u001B[43m,\u001B[49m\n\u001B[0;32m    826\u001B[0m \u001B[43m        \u001B[49m\u001B[43my\u001B[49m\u001B[43m,\u001B[49m\n\u001B[0;32m    827\u001B[0m \u001B[43m        \u001B[49m\u001B[43mtrain\u001B[49m\u001B[38;5;241;43m=\u001B[39;49m\u001B[43mtrain\u001B[49m\u001B[43m,\u001B[49m\n\u001B[0;32m    828\u001B[0m \u001B[43m        \u001B[49m\u001B[43mtest\u001B[49m\u001B[38;5;241;43m=\u001B[39;49m\u001B[43mtest\u001B[49m\u001B[43m,\u001B[49m\n\u001B[0;32m    829\u001B[0m \u001B[43m        \u001B[49m\u001B[43mparameters\u001B[49m\u001B[38;5;241;43m=\u001B[39;49m\u001B[43mparameters\u001B[49m\u001B[43m,\u001B[49m\n\u001B[0;32m    830\u001B[0m \u001B[43m        \u001B[49m\u001B[43msplit_progress\u001B[49m\u001B[38;5;241;43m=\u001B[39;49m\u001B[43m(\u001B[49m\u001B[43msplit_idx\u001B[49m\u001B[43m,\u001B[49m\u001B[43m \u001B[49m\u001B[43mn_splits\u001B[49m\u001B[43m)\u001B[49m\u001B[43m,\u001B[49m\n\u001B[0;32m    831\u001B[0m \u001B[43m        \u001B[49m\u001B[43mcandidate_progress\u001B[49m\u001B[38;5;241;43m=\u001B[39;49m\u001B[43m(\u001B[49m\u001B[43mcand_idx\u001B[49m\u001B[43m,\u001B[49m\u001B[43m \u001B[49m\u001B[43mn_candidates\u001B[49m\u001B[43m)\u001B[49m\u001B[43m,\u001B[49m\n\u001B[0;32m    832\u001B[0m \u001B[43m        \u001B[49m\u001B[38;5;241;43m*\u001B[39;49m\u001B[38;5;241;43m*\u001B[39;49m\u001B[43mfit_and_score_kwargs\u001B[49m\u001B[43m,\u001B[49m\n\u001B[0;32m    833\u001B[0m \u001B[43m    \u001B[49m\u001B[43m)\u001B[49m\n\u001B[0;32m    834\u001B[0m \u001B[43m    \u001B[49m\u001B[38;5;28;43;01mfor\u001B[39;49;00m\u001B[43m \u001B[49m\u001B[43m(\u001B[49m\u001B[43mcand_idx\u001B[49m\u001B[43m,\u001B[49m\u001B[43m \u001B[49m\u001B[43mparameters\u001B[49m\u001B[43m)\u001B[49m\u001B[43m,\u001B[49m\u001B[43m \u001B[49m\u001B[43m(\u001B[49m\u001B[43msplit_idx\u001B[49m\u001B[43m,\u001B[49m\u001B[43m \u001B[49m\u001B[43m(\u001B[49m\u001B[43mtrain\u001B[49m\u001B[43m,\u001B[49m\u001B[43m \u001B[49m\u001B[43mtest\u001B[49m\u001B[43m)\u001B[49m\u001B[43m)\u001B[49m\u001B[43m \u001B[49m\u001B[38;5;129;43;01min\u001B[39;49;00m\u001B[43m \u001B[49m\u001B[43mproduct\u001B[49m\u001B[43m(\u001B[49m\n\u001B[0;32m    835\u001B[0m \u001B[43m        \u001B[49m\u001B[38;5;28;43menumerate\u001B[39;49m\u001B[43m(\u001B[49m\u001B[43mcandidate_params\u001B[49m\u001B[43m)\u001B[49m\u001B[43m,\u001B[49m\u001B[43m \u001B[49m\u001B[38;5;28;43menumerate\u001B[39;49m\u001B[43m(\u001B[49m\u001B[43mcv\u001B[49m\u001B[38;5;241;43m.\u001B[39;49m\u001B[43msplit\u001B[49m\u001B[43m(\u001B[49m\u001B[43mX\u001B[49m\u001B[43m,\u001B[49m\u001B[43m \u001B[49m\u001B[43my\u001B[49m\u001B[43m,\u001B[49m\u001B[43m \u001B[49m\u001B[43mgroups\u001B[49m\u001B[43m)\u001B[49m\u001B[43m)\u001B[49m\n\u001B[0;32m    836\u001B[0m \u001B[43m    \u001B[49m\u001B[43m)\u001B[49m\n\u001B[0;32m    837\u001B[0m \u001B[43m\u001B[49m\u001B[43m)\u001B[49m\n\u001B[0;32m    839\u001B[0m \u001B[38;5;28;01mif\u001B[39;00m \u001B[38;5;28mlen\u001B[39m(out) \u001B[38;5;241m<\u001B[39m \u001B[38;5;241m1\u001B[39m:\n\u001B[0;32m    840\u001B[0m     \u001B[38;5;28;01mraise\u001B[39;00m \u001B[38;5;167;01mValueError\u001B[39;00m(\n\u001B[0;32m    841\u001B[0m         \u001B[38;5;124m\"\u001B[39m\u001B[38;5;124mNo fits were performed. \u001B[39m\u001B[38;5;124m\"\u001B[39m\n\u001B[0;32m    842\u001B[0m         \u001B[38;5;124m\"\u001B[39m\u001B[38;5;124mWas the CV iterator empty? \u001B[39m\u001B[38;5;124m\"\u001B[39m\n\u001B[0;32m    843\u001B[0m         \u001B[38;5;124m\"\u001B[39m\u001B[38;5;124mWere there no candidates?\u001B[39m\u001B[38;5;124m\"\u001B[39m\n\u001B[0;32m    844\u001B[0m     )\n",
      "File \u001B[1;32mH:\\kaggle\\spaceship-titanic\\venv\\lib\\site-packages\\joblib\\parallel.py:1098\u001B[0m, in \u001B[0;36mParallel.__call__\u001B[1;34m(self, iterable)\u001B[0m\n\u001B[0;32m   1095\u001B[0m     \u001B[38;5;28mself\u001B[39m\u001B[38;5;241m.\u001B[39m_iterating \u001B[38;5;241m=\u001B[39m \u001B[38;5;28;01mFalse\u001B[39;00m\n\u001B[0;32m   1097\u001B[0m \u001B[38;5;28;01mwith\u001B[39;00m \u001B[38;5;28mself\u001B[39m\u001B[38;5;241m.\u001B[39m_backend\u001B[38;5;241m.\u001B[39mretrieval_context():\n\u001B[1;32m-> 1098\u001B[0m     \u001B[38;5;28;43mself\u001B[39;49m\u001B[38;5;241;43m.\u001B[39;49m\u001B[43mretrieve\u001B[49m\u001B[43m(\u001B[49m\u001B[43m)\u001B[49m\n\u001B[0;32m   1099\u001B[0m \u001B[38;5;66;03m# Make sure that we get a last message telling us we are done\u001B[39;00m\n\u001B[0;32m   1100\u001B[0m elapsed_time \u001B[38;5;241m=\u001B[39m time\u001B[38;5;241m.\u001B[39mtime() \u001B[38;5;241m-\u001B[39m \u001B[38;5;28mself\u001B[39m\u001B[38;5;241m.\u001B[39m_start_time\n",
      "File \u001B[1;32mH:\\kaggle\\spaceship-titanic\\venv\\lib\\site-packages\\joblib\\parallel.py:975\u001B[0m, in \u001B[0;36mParallel.retrieve\u001B[1;34m(self)\u001B[0m\n\u001B[0;32m    973\u001B[0m \u001B[38;5;28;01mtry\u001B[39;00m:\n\u001B[0;32m    974\u001B[0m     \u001B[38;5;28;01mif\u001B[39;00m \u001B[38;5;28mgetattr\u001B[39m(\u001B[38;5;28mself\u001B[39m\u001B[38;5;241m.\u001B[39m_backend, \u001B[38;5;124m'\u001B[39m\u001B[38;5;124msupports_timeout\u001B[39m\u001B[38;5;124m'\u001B[39m, \u001B[38;5;28;01mFalse\u001B[39;00m):\n\u001B[1;32m--> 975\u001B[0m         \u001B[38;5;28mself\u001B[39m\u001B[38;5;241m.\u001B[39m_output\u001B[38;5;241m.\u001B[39mextend(\u001B[43mjob\u001B[49m\u001B[38;5;241;43m.\u001B[39;49m\u001B[43mget\u001B[49m\u001B[43m(\u001B[49m\u001B[43mtimeout\u001B[49m\u001B[38;5;241;43m=\u001B[39;49m\u001B[38;5;28;43mself\u001B[39;49m\u001B[38;5;241;43m.\u001B[39;49m\u001B[43mtimeout\u001B[49m\u001B[43m)\u001B[49m)\n\u001B[0;32m    976\u001B[0m     \u001B[38;5;28;01melse\u001B[39;00m:\n\u001B[0;32m    977\u001B[0m         \u001B[38;5;28mself\u001B[39m\u001B[38;5;241m.\u001B[39m_output\u001B[38;5;241m.\u001B[39mextend(job\u001B[38;5;241m.\u001B[39mget())\n",
      "File \u001B[1;32mH:\\kaggle\\spaceship-titanic\\venv\\lib\\site-packages\\joblib\\_parallel_backends.py:567\u001B[0m, in \u001B[0;36mLokyBackend.wrap_future_result\u001B[1;34m(future, timeout)\u001B[0m\n\u001B[0;32m    564\u001B[0m \u001B[38;5;124;03m\"\"\"Wrapper for Future.result to implement the same behaviour as\u001B[39;00m\n\u001B[0;32m    565\u001B[0m \u001B[38;5;124;03mAsyncResults.get from multiprocessing.\"\"\"\u001B[39;00m\n\u001B[0;32m    566\u001B[0m \u001B[38;5;28;01mtry\u001B[39;00m:\n\u001B[1;32m--> 567\u001B[0m     \u001B[38;5;28;01mreturn\u001B[39;00m \u001B[43mfuture\u001B[49m\u001B[38;5;241;43m.\u001B[39;49m\u001B[43mresult\u001B[49m\u001B[43m(\u001B[49m\u001B[43mtimeout\u001B[49m\u001B[38;5;241;43m=\u001B[39;49m\u001B[43mtimeout\u001B[49m\u001B[43m)\u001B[49m\n\u001B[0;32m    568\u001B[0m \u001B[38;5;28;01mexcept\u001B[39;00m CfTimeoutError \u001B[38;5;28;01mas\u001B[39;00m e:\n\u001B[0;32m    569\u001B[0m     \u001B[38;5;28;01mraise\u001B[39;00m \u001B[38;5;167;01mTimeoutError\u001B[39;00m \u001B[38;5;28;01mfrom\u001B[39;00m \u001B[38;5;21;01me\u001B[39;00m\n",
      "File \u001B[1;32mC:\\Program Files\\Python310\\lib\\concurrent\\futures\\_base.py:453\u001B[0m, in \u001B[0;36mFuture.result\u001B[1;34m(self, timeout)\u001B[0m\n\u001B[0;32m    450\u001B[0m \u001B[38;5;28;01melif\u001B[39;00m \u001B[38;5;28mself\u001B[39m\u001B[38;5;241m.\u001B[39m_state \u001B[38;5;241m==\u001B[39m FINISHED:\n\u001B[0;32m    451\u001B[0m     \u001B[38;5;28;01mreturn\u001B[39;00m \u001B[38;5;28mself\u001B[39m\u001B[38;5;241m.\u001B[39m__get_result()\n\u001B[1;32m--> 453\u001B[0m \u001B[38;5;28;43mself\u001B[39;49m\u001B[38;5;241;43m.\u001B[39;49m\u001B[43m_condition\u001B[49m\u001B[38;5;241;43m.\u001B[39;49m\u001B[43mwait\u001B[49m\u001B[43m(\u001B[49m\u001B[43mtimeout\u001B[49m\u001B[43m)\u001B[49m\n\u001B[0;32m    455\u001B[0m \u001B[38;5;28;01mif\u001B[39;00m \u001B[38;5;28mself\u001B[39m\u001B[38;5;241m.\u001B[39m_state \u001B[38;5;129;01min\u001B[39;00m [CANCELLED, CANCELLED_AND_NOTIFIED]:\n\u001B[0;32m    456\u001B[0m     \u001B[38;5;28;01mraise\u001B[39;00m CancelledError()\n",
      "File \u001B[1;32mC:\\Program Files\\Python310\\lib\\threading.py:320\u001B[0m, in \u001B[0;36mCondition.wait\u001B[1;34m(self, timeout)\u001B[0m\n\u001B[0;32m    318\u001B[0m \u001B[38;5;28;01mtry\u001B[39;00m:    \u001B[38;5;66;03m# restore state no matter what (e.g., KeyboardInterrupt)\u001B[39;00m\n\u001B[0;32m    319\u001B[0m     \u001B[38;5;28;01mif\u001B[39;00m timeout \u001B[38;5;129;01mis\u001B[39;00m \u001B[38;5;28;01mNone\u001B[39;00m:\n\u001B[1;32m--> 320\u001B[0m         \u001B[43mwaiter\u001B[49m\u001B[38;5;241;43m.\u001B[39;49m\u001B[43macquire\u001B[49m\u001B[43m(\u001B[49m\u001B[43m)\u001B[49m\n\u001B[0;32m    321\u001B[0m         gotit \u001B[38;5;241m=\u001B[39m \u001B[38;5;28;01mTrue\u001B[39;00m\n\u001B[0;32m    322\u001B[0m     \u001B[38;5;28;01melse\u001B[39;00m:\n",
      "\u001B[1;31mKeyboardInterrupt\u001B[0m: "
     ]
    }
   ],
   "source": [
    "# Let's tune the model.\n",
    "# from sklearn.model_selection import GridSearchCV\n",
    "#\n",
    "# tuning_params = {'n_estimators': [100, 1000, 5000, 10000],\n",
    "#                  'max_depth': [None, 3, 5],\n",
    "#                  'min_samples_split':(2, 5, 10, 20),\n",
    "#                  'min_samples_leaf': (2, 5, 10, 20),\n",
    "#                  'max_features': [0.5, 1, \"sqrt\"]}\n",
    "#\n",
    "# gs_clf = GridSearchCV(estimator=clf, param_grid=tuning_params, cv=3, verbose=0, n_jobs=-1)\n",
    "# gs_clf.fit(X, y)"
   ],
   "metadata": {
    "collapsed": false
   }
  },
  {
   "cell_type": "code",
   "execution_count": 348,
   "outputs": [
    {
     "name": "stderr",
     "output_type": "stream",
     "text": [
      "H:\\kaggle\\spaceship-titanic\\venv\\lib\\site-packages\\sklearn\\model_selection\\_search.py:306: UserWarning: The total space of parameters 6 is smaller than n_iter=10. Running 6 iterations. For exhaustive searches, use GridSearchCV.\n",
      "  warnings.warn(\n"
     ]
    },
    {
     "name": "stdout",
     "output_type": "stream",
     "text": [
      "96.2951111793518 seconds elapsed\n",
      "0.7952846463484762\n",
      "{'n_estimators': 1000, 'max_depth': None}\n"
     ]
    }
   ],
   "source": [
    "# from sklearn.model_selection import GridSearchCV\n",
    "# import time\n",
    "#\n",
    "# start = time.time()\n",
    "#\n",
    "# tuning_params = {'n_estimators': [1000],\n",
    "#                  'max_depth': [None, 3, 5]}\n",
    "#                  #'min_samples_split':(2, 5, 10, 20),\n",
    "#                  #'min_samples_leaf': (2, 5, 10, 20),\n",
    "#                  #'max_features': [0.5, 1, \"sqrt\"]}\n",
    "#\n",
    "# gs_clf = GridSearchCV(estimator=clf, param_grid=tuning_params, cv=2, verbose=0, n_jobs=-1)\n",
    "# gs_clf.fit(X_train, y_train)\n",
    "#\n",
    "# end = time.time()\n",
    "# print(end - start, 'seconds elapsed')\n",
    "#\n",
    "# print(gs_clf.score(X_test, y_test))\n",
    "# print(gs_clf.best_params_)"
   ],
   "metadata": {
    "collapsed": false
   }
  },
  {
   "cell_type": "markdown",
   "source": [
    "{'n_estimators': 10000, 'min_samples_split': 10, 'min_samples_leaf': 5, 'max_features': 'sqrt', 'max_depth': None}\n",
    "0.803"
   ],
   "metadata": {
    "collapsed": false
   }
  },
  {
   "cell_type": "code",
   "execution_count": 356,
   "outputs": [],
   "source": [
    "def evaluation_block_classifier(model, X, y, X_test, y_test):\n",
    "\n",
    "    \"\"\"\n",
    "    :param model: name of classifier\n",
    "    :param X: name of X data (non-target)\n",
    "    :param y: name of y data (target)\n",
    "    :param X_test: name of X test data (non-target)\n",
    "    :param y_test: name of y test data (target)\n",
    "    :param roc_graph: boolean to determine if ROC graph is plotted and displayed\n",
    "    \"\"\"\n",
    "\n",
    "    from sklearn.metrics import accuracy_score, precision_score, recall_score, f1_score, roc_curve, roc_auc_score\n",
    "    from sklearn.model_selection import cross_val_score\n",
    "    from numpy import mean as npmean\n",
    "    import matplotlib.pyplot as plt\n",
    "\n",
    "    # Get y_preds\n",
    "    preds = model.predict(X_test)\n",
    "\n",
    "    # Evaluation block for singular metrics (non-cross validated)\n",
    "    print(\"Singular classifier metrics on test set:\")\n",
    "    print(f'Accuracy: {accuracy_score(y_test, preds)*100:.2f}%')\n",
    "    print(f'Precision: {precision_score(y_test, preds)}')\n",
    "    print(f'Recall: {recall_score(y_test, preds)}')\n",
    "    print(f'F1: {f1_score(y_test, preds)}')\n",
    "    print('')\n",
    "\n",
    "    # Evaluation block for cross val\n",
    "    print(\"Cross validation classifier metrics on test set:\")\n",
    "    print(f'Accuracy: {npmean(cross_val_score(model, X, y, cv=5, scoring=\"accuracy\"))*100:.2f}%')\n",
    "    print(f'Precision: {npmean(cross_val_score(model, X, y, cv=5, scoring=\"precision\"))}')\n",
    "    print(f'Recall: {npmean(cross_val_score(model, X, y, cv=5, scoring=\"recall\"))}')\n",
    "    print(f'F1: {npmean(cross_val_score(model, X, y, cv=5, scoring=\"f1\"))}')\n",
    "    print('')\n",
    "\n",
    "    y_probs = model.predict_proba(X_test)\n",
    "    y_probs_positive = y_probs[:, 1]\n",
    "\n",
    "\n",
    "    # Define and gather data to plot ROC curve\n",
    "\n",
    "    fpr, tpr, thresholds = roc_curve(y_test, y_probs_positive)\n",
    "\n",
    "    def plot_roc_curve(fpr, tpr):\n",
    "\n",
    "        # Plots our ROC curve given the FPR and TPR\n",
    "        plt.plot(fpr, tpr, color='orange', label=\"ROC\")\n",
    "\n",
    "        # Plot line with no predictive power (baseline)\n",
    "        plt.plot([0,1], [0,1], color='darkblue', linestyle='--', label='Guessing')\n",
    "\n",
    "        # Customize\n",
    "        plt.xlabel('False positive rate (FPR)')\n",
    "        plt.ylabel('True positive rate (TPR)')\n",
    "        plt.title('ROC Curve')\n",
    "        plt.legend()\n",
    "        plt.show()\n",
    "\n",
    "    plot_roc_curve(fpr, tpr)\n",
    "    print(f'ROC AUC score: {roc_auc_score(y_test, y_probs_positive)}')"
   ],
   "metadata": {
    "collapsed": false
   }
  },
  {
   "cell_type": "code",
   "execution_count": 374,
   "outputs": [
    {
     "name": "stdout",
     "output_type": "stream",
     "text": [
      "Singular classifier metrics on test set:\n",
      "Accuracy: 80.33%\n",
      "Precision: 0.7977777777777778\n",
      "Recall: 0.8177676537585421\n",
      "F1: 0.8076490438695163\n",
      "\n",
      "Cross validation classifier metrics on test set:\n",
      "Accuracy: 77.84%\n",
      "Precision: 0.8523324819760815\n",
      "Recall: 0.6978290932811481\n",
      "F1: 0.7527546031562995\n",
      "\n"
     ]
    },
    {
     "data": {
      "text/plain": "<Figure size 640x480 with 1 Axes>",
      "image/png": "[encoded data removed]"
     },
     "metadata": {},
     "output_type": "display_data"
    },
    {
     "name": "stdout",
     "output_type": "stream",
     "text": [
      "ROC AUC score: 0.8870664772381536\n"
     ]
    }
   ],
   "source": [
    "evaluation_block_classifier(clf, X, y, X_test, y_test)"
   ],
   "metadata": {
    "collapsed": false
   }
  },
  {
   "cell_type": "markdown",
   "source": [
    "I'm getting a 80.3% score with RF. Let's try a Linear SVC."
   ],
   "metadata": {
    "collapsed": false
   }
  },
  {
   "cell_type": "code",
   "execution_count": 379,
   "outputs": [
    {
     "name": "stderr",
     "output_type": "stream",
     "text": [
      "H:\\kaggle\\spaceship-titanic\\venv\\lib\\site-packages\\sklearn\\svm\\_base.py:1244: ConvergenceWarning: Liblinear failed to converge, increase the number of iterations.\n",
      "  warnings.warn(\n"
     ]
    },
    {
     "data": {
      "text/plain": "0.78205865439908"
     },
     "execution_count": 379,
     "metadata": {},
     "output_type": "execute_result"
    }
   ],
   "source": [
    "from sklearn.svm import LinearSVC\n",
    "from sklearn.model_selection import train_test_split\n",
    "from sklearn.preprocessing import StandardScaler\n",
    "\n",
    "X = df.drop(['Transported'], axis=1)\n",
    "y = df['Transported']\n",
    "\n",
    "X = transform_data(X)\n",
    "scaler = StandardScaler()\n",
    "X = scaler.fit_transform(X)\n",
    "X_train, X_test, y_train, y_test = train_test_split(X, y, test_size=0.2,\n",
    "                                                    random_state=42)\n",
    "\n",
    "clf_svc = LinearSVC(random_state=42, max_iter=10000)\n",
    "clf_svc.fit(X_train, y_train)\n",
    "clf_svc.score(X_test, y_test)"
   ],
   "metadata": {
    "collapsed": false
   }
  },
  {
   "cell_type": "markdown",
   "source": [
    "Now let's try KNeighbors"
   ],
   "metadata": {
    "collapsed": false
   }
  },
  {
   "cell_type": "code",
   "execution_count": 385,
   "outputs": [
    {
     "data": {
      "text/plain": "0.7492811960897068"
     },
     "execution_count": 385,
     "metadata": {},
     "output_type": "execute_result"
    }
   ],
   "source": [
    "from sklearn.neighbors import KNeighborsClassifier\n",
    "from sklearn.model_selection import train_test_split\n",
    "from sklearn.preprocessing import StandardScaler\n",
    "\n",
    "X = df.drop(['Transported'], axis=1)\n",
    "y = df['Transported']\n",
    "\n",
    "X = transform_data(X)\n",
    "X_train, X_test, y_train, y_test = train_test_split(X, y, test_size=0.2,\n",
    "                                                    random_state=42)\n",
    "\n",
    "clf_kne = KNeighborsClassifier()\n",
    "clf_kne.fit(X_train, y_train)\n",
    "clf_kne.score(X_test, y_test)"
   ],
   "metadata": {
    "collapsed": false
   }
  },
  {
   "cell_type": "markdown",
   "source": [
    "Looks like RF is our winner so far."
   ],
   "metadata": {
    "collapsed": false
   }
  },
  {
   "cell_type": "markdown",
   "source": [
    "### 4. Predict and Submit"
   ],
   "metadata": {
    "collapsed": false
   }
  },
  {
   "cell_type": "code",
   "execution_count": 427,
   "outputs": [
    {
     "name": "stdout",
     "output_type": "stream",
     "text": [
      "<class 'pandas.core.frame.DataFrame'>\n",
      "RangeIndex: 4277 entries, 0 to 4276\n",
      "Data columns (total 13 columns):\n",
      " #   Column        Non-Null Count  Dtype  \n",
      "---  ------        --------------  -----  \n",
      " 0   PassengerId   4277 non-null   object \n",
      " 1   HomePlanet    4190 non-null   object \n",
      " 2   CryoSleep     4184 non-null   object \n",
      " 3   Cabin         4177 non-null   object \n",
      " 4   Destination   4185 non-null   object \n",
      " 5   Age           4186 non-null   float64\n",
      " 6   VIP           4184 non-null   object \n",
      " 7   RoomService   4195 non-null   float64\n",
      " 8   FoodCourt     4171 non-null   float64\n",
      " 9   ShoppingMall  4179 non-null   float64\n",
      " 10  Spa           4176 non-null   float64\n",
      " 11  VRDeck        4197 non-null   float64\n",
      " 12  Name          4183 non-null   object \n",
      "dtypes: float64(6), object(7)\n",
      "memory usage: 434.5+ KB\n"
     ]
    }
   ],
   "source": [
    "# Let's predict and submit our score for evaluation and see where we're at.\n",
    "test_df = pd.read_csv('test.csv')\n",
    "test_df.info()"
   ],
   "metadata": {
    "collapsed": false
   }
  },
  {
   "cell_type": "code",
   "execution_count": 450,
   "outputs": [],
   "source": [
    "def predict_and_package(passed_df):\n",
    "    # Grab passenger ids for final submission\n",
    "    test_df_passids = pd.DataFrame(passed_df['PassengerId'])\n",
    "    # Create the predictions\n",
    "    test_df = preprocess(passed_df)\n",
    "    test_df = transform_data(test_df)\n",
    "    test_preds = clf.predict(test_df)\n",
    "    # Transpose and concatenate\n",
    "    test_preds_df = pd.DataFrame(test_preds, columns=['Transported'])\n",
    "    test_preds_df['Transported'] = test_preds_df['Transported'].astype(bool)\n",
    "    print(test_preds_df.head())\n",
    "    submission = pd.concat([test_df_passids, test_preds_df], axis=1, join='inner')\n",
    "\n",
    "    return submission"
   ],
   "metadata": {
    "collapsed": false
   }
  },
  {
   "cell_type": "code",
   "execution_count": 453,
   "outputs": [
    {
     "name": "stdout",
     "output_type": "stream",
     "text": [
      "Filling  ['RoomService', 'FoodCourt', 'ShoppingMall', 'Spa', 'VRDeck'] nan values with 0.\n",
      "Fixed 87 values in HomePlanet .\n",
      "Fixed 93 values in CryoSleep .\n",
      "Fixed 100 values in Cabin .\n",
      "Fixed 92 values in Destination .\n",
      "Fixed 93 values in VIP .\n",
      "4216 cabin values determined from Cabin feature, 61 cabin values missing.\n",
      "   Transported\n",
      "0         True\n",
      "1        False\n",
      "2         True\n",
      "3         True\n",
      "4         True\n",
      "  PassengerId  Transported\n",
      "0     0013_01         True\n",
      "1     0018_01        False\n",
      "2     0019_01         True\n",
      "3     0021_01         True\n",
      "4     0023_01         True\n",
      "<class 'pandas.core.frame.DataFrame'>\n",
      "RangeIndex: 4277 entries, 0 to 4276\n",
      "Data columns (total 2 columns):\n",
      " #   Column       Non-Null Count  Dtype \n",
      "---  ------       --------------  ----- \n",
      " 0   PassengerId  4277 non-null   object\n",
      " 1   Transported  4277 non-null   bool  \n",
      "dtypes: bool(1), object(1)\n",
      "memory usage: 37.7+ KB\n",
      "None\n"
     ]
    }
   ],
   "source": [
    "submission = predict_and_package(test_df)\n",
    "print(submission.head())\n",
    "print(submission.info())"
   ],
   "metadata": {
    "collapsed": false
   }
  },
  {
   "cell_type": "code",
   "execution_count": 452,
   "outputs": [],
   "source": [
    "submission.to_csv('submission.csv', index=False)"
   ],
   "metadata": {
    "collapsed": false
   }
  }
 ],
 "metadata": {
  "kernelspec": {
   "display_name": "Python 3",
   "language": "python",
   "name": "python3"
  },
  "language_info": {
   "codemirror_mode": {
    "name": "ipython",
    "version": 2
   },
   "file_extension": ".py",
   "mimetype": "text/x-python",
   "name": "python",
   "nbconvert_exporter": "python",
   "pygments_lexer": "ipython2",
   "version": "2.7.6"
  }
 },
 "nbformat": 4,
 "nbformat_minor": 0
}
