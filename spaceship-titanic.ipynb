{
 "cells": [
  {
   "cell_type": "markdown",
   "source": [
    "# This is the Spaceship Titanic\n",
    "## Kaggle Competition\n",
    "\n",
    "### 1. Assemble the data\n",
    "### 2. Visualize, shape, and engineer it\n",
    "### 3. Train a model\n",
    "### 4. Predict and submit"
   ],
   "metadata": {
    "collapsed": false
   }
  },
  {
   "cell_type": "markdown",
   "source": [
    "### 1. Assemble the data\n",
    "\n",
    "Data description:\n",
    "\n",
    "PassengerId - A unique Id for each passenger. Each Id takes the form gggg_pp where gggg indicates a group the passenger is travelling with and pp is their number within the group. People in a group are often family members, but not always.\n",
    "\n",
    "HomePlanet - The planet the passenger departed from, typically their planet of permanent residence.\n",
    "\n",
    "CryoSleep - Indicates whether the passenger elected to be put into suspended animation for the duration of the voyage. Passengers in cryosleep are confined to their cabins.\n",
    "\n",
    "Cabin - The cabin number where the passenger is staying. Takes the form deck/num/side, where side can be either P for Port or S for Starboard.\n",
    "\n",
    "Destination - The planet the passenger will be debarking to.\n",
    "\n",
    "Age - The age of the passenger.\n",
    "\n",
    "VIP - Whether the passenger has paid for special VIP service during the voyage.\n",
    "\n",
    "RoomService, FoodCourt, ShoppingMall, Spa, VRDeck - Amount the passenger has billed at each of the Spaceship Titanic's many luxury amenities.\n",
    "\n",
    "Name - The first and last names of the passenger.\n",
    "\n",
    "Transported - Whether the passenger was transported to another dimension. This is the target, the column you are trying to predict."
   ],
   "metadata": {
    "collapsed": false
   }
  },
  {
   "cell_type": "code",
   "execution_count": 1,
   "outputs": [],
   "source": [
    "import numpy as np\n",
    "import pandas as pd\n",
    "import matplotlib.pyplot as plt"
   ],
   "metadata": {
    "collapsed": false
   }
  },
  {
   "cell_type": "code",
   "execution_count": 2,
   "outputs": [],
   "source": [
    "df = pd.read_csv('train.csv')"
   ],
   "metadata": {
    "collapsed": false
   }
  },
  {
   "cell_type": "markdown",
   "source": [
    "### 2. Visualize, shape, and engineer the data"
   ],
   "metadata": {
    "collapsed": false
   }
  },
  {
   "cell_type": "code",
   "execution_count": 3,
   "outputs": [
    {
     "name": "stdout",
     "output_type": "stream",
     "text": [
      "<class 'pandas.core.frame.DataFrame'>\n",
      "RangeIndex: 8693 entries, 0 to 8692\n",
      "Data columns (total 14 columns):\n",
      " #   Column        Non-Null Count  Dtype  \n",
      "---  ------        --------------  -----  \n",
      " 0   PassengerId   8693 non-null   object \n",
      " 1   HomePlanet    8492 non-null   object \n",
      " 2   CryoSleep     8476 non-null   object \n",
      " 3   Cabin         8494 non-null   object \n",
      " 4   Destination   8511 non-null   object \n",
      " 5   Age           8514 non-null   float64\n",
      " 6   VIP           8490 non-null   object \n",
      " 7   RoomService   8512 non-null   float64\n",
      " 8   FoodCourt     8510 non-null   float64\n",
      " 9   ShoppingMall  8485 non-null   float64\n",
      " 10  Spa           8510 non-null   float64\n",
      " 11  VRDeck        8505 non-null   float64\n",
      " 12  Name          8493 non-null   object \n",
      " 13  Transported   8693 non-null   bool   \n",
      "dtypes: bool(1), float64(6), object(7)\n",
      "memory usage: 891.5+ KB\n"
     ]
    }
   ],
   "source": [
    "df.info()"
   ],
   "metadata": {
    "collapsed": false
   }
  },
  {
   "cell_type": "code",
   "execution_count": 4,
   "outputs": [
    {
     "data": {
      "text/plain": "False    5439\nTrue     3037\nName: CryoSleep, dtype: int64"
     },
     "execution_count": 4,
     "metadata": {},
     "output_type": "execute_result"
    }
   ],
   "source": [
    "df['CryoSleep'].value_counts()"
   ],
   "metadata": {
    "collapsed": false
   }
  },
  {
   "cell_type": "code",
   "execution_count": 5,
   "outputs": [
    {
     "data": {
      "text/plain": "False    8291\nTrue      199\nName: VIP, dtype: int64"
     },
     "execution_count": 5,
     "metadata": {},
     "output_type": "execute_result"
    }
   ],
   "source": [
    "df['VIP'].value_counts()"
   ],
   "metadata": {
    "collapsed": false
   }
  },
  {
   "cell_type": "code",
   "execution_count": 6,
   "outputs": [
    {
     "data": {
      "text/plain": "Earth     4602\nEuropa    2131\nMars      1759\nName: HomePlanet, dtype: int64"
     },
     "execution_count": 6,
     "metadata": {},
     "output_type": "execute_result"
    }
   ],
   "source": [
    "df['HomePlanet'].value_counts()"
   ],
   "metadata": {
    "collapsed": false
   }
  },
  {
   "cell_type": "markdown",
   "source": [
    "### Data findings:\n",
    "\n",
    "- 8693 total passengers in this set. Null values are located in every column except 'PassengerId' and the target 'Transported.'\n",
    "- Passenger groups should be compared and if NaNs are found in groups then set those NaNs to the same as the others in the group, except for expenditure. Expenditure NaN should be set to 0 because we are assuming these groups might have children and just the parents paid. 'Age' will be set to mean.\n",
    "- Else, 'CryoSleep' and 'VIP' null values will be set to False since that's the most common.\n",
    "- NOTE: nan values appear to be floats. Will convert to 'nan' string for comparison.\n",
    "- 'PassengerID' can be engineered since it tells us if they were in a group. Passengers in a group were probably more likely to be transported together.\n",
    "- 'HomePlanet' probably useless but it's possible they're grouped together.\n",
    "- 'CryoSleep' is important since they might be in the cabin, or if they're out and about.\n",
    "- 'Cabin' will need to be feature engineered since it contains several features and is useless in it's current state. It contains valuable data though since once it's split into three values (deck, number, side) we'll be able to pinpoint where the space anomaly hit the ship.\n",
    "- 'Destination' is probably useless but it might be possible they're grouped together on the ship.\n",
    "- 'Age', 'VIP', and all expenditures will be pd.dummied or normalized.\n",
    "- 'Name' is useless since it's unique for every passenger and will be removed.\n",
    "\n",
    "Second run through:\n",
    "- We're going to add total expenses\n",
    "- We're going to set CryoSleep on anyone age >= 13 who had no expenses who had a nan for CryoSleep"
   ],
   "metadata": {
    "collapsed": false
   }
  },
  {
   "cell_type": "code",
   "execution_count": 7,
   "outputs": [],
   "source": [
    "# Preprocess data\n",
    "def preprocess(passed_df):\n",
    "\n",
    "    def remove_useless_columns(passed_df):\n",
    "        # We'll remove the useless features\n",
    "        useless_columns = ['Name']\n",
    "        passed_df = passed_df.drop(useless_columns, axis=1)\n",
    "\n",
    "        return passed_df\n",
    "\n",
    "    def pass_id_group(passed_df):\n",
    "        # We'll remove the passenger number and just leave the group number\n",
    "        for row in passed_df.index:\n",
    "            raw_id = str(passed_df.at[row, 'PassengerId'])\n",
    "            fixed_id = raw_id.split('_')\n",
    "            fixed_id = fixed_id.pop(0)\n",
    "            passed_df.at[row, 'PassengerId'] = int(fixed_id)\n",
    "        passed_df.rename(columns={'PassengerId': 'PassengerGroup'}, inplace=True)\n",
    "\n",
    "        return passed_df\n",
    "\n",
    "    def total_expenses(passed_df):\n",
    "        expenditure_columns = ['RoomService', 'FoodCourt', 'ShoppingMall', 'Spa', 'VRDeck']\n",
    "        # Expenditure columns will be zeroed since we assume families spent together and can't guess otherwise.\n",
    "        print('Filling ', expenditure_columns, 'nan values with 0.')\n",
    "        passed_df[expenditure_columns] = passed_df[expenditure_columns].fillna(value=0)\n",
    "        for row in passed_df.index:\n",
    "            total_spent = 0\n",
    "            for column in expenditure_columns:\n",
    "                total_spent += passed_df.at[row, column]\n",
    "            passed_df.at[row, 'TotalSpent'] = total_spent\n",
    "\n",
    "        return passed_df\n",
    "\n",
    "    def fix_null_values(passed_df):\n",
    "        # Clean any columns right off the bat that we know we can fill.\n",
    "        passed_df['Age'].fillna(value=passed_df['Age'].mean(), inplace=True)\n",
    "        # Next we'll take a look at the rest of the columns that have nulls, except age which will be .mean(). These columns will have their 'PassengerGroup' searched for non-null values and if they have a group with the same values available then they will be filled with that. Otherwise they'll be given 'missing' or 0 depending on which column.\n",
    "        columns_to_compare = ['HomePlanet', 'CryoSleep', 'Cabin', 'Destination', 'VIP']\n",
    "        for column in columns_to_compare:\n",
    "            # We fill the missing float nan values that pandas gives us with a simple 'nan' string that makes comparison easy.\n",
    "            passed_df[column].fillna(value='nan', inplace=True)\n",
    "            # Including a counter for printing.\n",
    "            nan_values = 0\n",
    "            for row in passed_df.index:\n",
    "                value = passed_df.at[row, column]\n",
    "                if value == 'nan':\n",
    "                    nan_values += 1\n",
    "                    # Here we find the passenger group id and use it to create a small temporary Dataframe to search.\n",
    "                    group_id = passed_df.at[row, 'PassengerGroup']\n",
    "                    df_pass_groups = passed_df.loc[passed_df['PassengerGroup'] == group_id]\n",
    "                    # We check here if there are others in their group. If not then we just fill with 'missing' or 0.\n",
    "                    if len(df_pass_groups) > 1:\n",
    "                        for pass_rows in df_pass_groups.index:\n",
    "                            pass_value = df_pass_groups.at[pass_rows, column]\n",
    "                            # If others in the group have the proper value then it's captured and filled.\n",
    "                            if pass_value != 'nan':\n",
    "                                not_null_value = df_pass_groups.at[pass_rows, column]\n",
    "                        passed_df.at[row, column] = not_null_value\n",
    "                    # Here we fill 0 or 'missing' if we don't have a group to compare to.\n",
    "                    else:\n",
    "                        if column == 'VIP' or column == 'CryoSleep':\n",
    "                            # Let's set 'CryoSleep' to true on rows with 'Age' >= 13, but 'TotalSpent' at 0.\n",
    "                            age = int(passed_df.at[row, 'Age'])\n",
    "                            total_spent = float(passed_df.at[row, 'TotalSpent'])\n",
    "                            if age >= 13 and total_spent == 0:\n",
    "                                passed_df.at[row, column] = 1\n",
    "                            else:\n",
    "                                passed_df.at[row, column] = 0\n",
    "                        else:\n",
    "                            passed_df.at[row, column] = 'missing'\n",
    "            print('Fixed', nan_values, 'values in', column, '.')\n",
    "        # Dropping total spent column since this number is contained in all the expenditure columns and it caused the model to lean too heavily on it.\n",
    "        passed_df = passed_df.drop('TotalSpent', axis=1)\n",
    "\n",
    "        return passed_df\n",
    "\n",
    "    def boolean_convert(passed_df):\n",
    "        # Here we'll just convert these two boolean columns to int. This isn't strictly necessary but it looks better when I view the dataframe.\n",
    "        passed_df['CryoSleep'] = passed_df['CryoSleep'].astype(int)\n",
    "        passed_df['VIP'] = passed_df['VIP'].astype(int)\n",
    "\n",
    "        return passed_df\n",
    "\n",
    "    def convert_cabins(passed_df):\n",
    "        # In this function we'll feature engineer the cabins and give them deck, cabin number, and side (port or starboard).\n",
    "        # There are 8 decks, represented as A, B, C, D, E, F, G, and T. We will rewrite these with their number.\n",
    "        # We will leave the cabin number as is.\n",
    "        # We will write port and starboard as 0 for port, 1 for starboard.\n",
    "        # Any 'missing' values will simply have 0.\n",
    "        deck_dict = {'A': 1,\n",
    "                     'B': 2,\n",
    "                     'C': 3,\n",
    "                     'D': 4,\n",
    "                     'E': 5,\n",
    "                     'F': 6,\n",
    "                     'G': 7,\n",
    "                     'T': 8}\n",
    "        side_dict = {'P': 0,\n",
    "                     'S': 1}\n",
    "        not_missing = 0\n",
    "        missing = 0\n",
    "        for row in passed_df.index:\n",
    "            value = str(passed_df.at[row, 'Cabin'])\n",
    "            if value != 'missing':\n",
    "                not_missing += 1\n",
    "                value_list = value.split('/')\n",
    "                passed_df.at[row, 'Deck'] = int(deck_dict[value_list[0]])\n",
    "                passed_df.at[row, 'CabinNumber'] = int(value_list[1])\n",
    "                passed_df.at[row, 'Side'] = int(side_dict[value_list[2]])\n",
    "            elif value == 'missing':\n",
    "                missing += 1\n",
    "                passed_df.at[row, 'Deck'] = int(0)\n",
    "                passed_df.at[row, 'CabinNumber'] = int(0)\n",
    "                passed_df.at[row, 'Side'] = int(0)\n",
    "        # Remove the old 'Cabin' column\n",
    "        passed_df = passed_df.drop('Cabin', axis=1)\n",
    "        print(f'{not_missing} cabin values determined from Cabin feature, {missing} cabin values missing.')\n",
    "\n",
    "        return passed_df\n",
    "\n",
    "    # Call all the functions\n",
    "    df = remove_useless_columns(passed_df)\n",
    "    df = pass_id_group(df)\n",
    "    df = total_expenses(df)\n",
    "    df = fix_null_values(df)\n",
    "    df = boolean_convert(df)\n",
    "    df = convert_cabins(df)\n",
    "\n",
    "    return df"
   ],
   "metadata": {
    "collapsed": false
   }
  },
  {
   "cell_type": "code",
   "execution_count": 8,
   "outputs": [
    {
     "name": "stdout",
     "output_type": "stream",
     "text": [
      "Filling  ['RoomService', 'FoodCourt', 'ShoppingMall', 'Spa', 'VRDeck'] nan values with 0.\n",
      "Fixed 201 values in HomePlanet .\n",
      "Fixed 217 values in CryoSleep .\n",
      "Fixed 199 values in Cabin .\n",
      "Fixed 182 values in Destination .\n",
      "Fixed 203 values in VIP .\n",
      "8594 cabin values determined from Cabin feature, 99 cabin values missing.\n",
      "<class 'pandas.core.frame.DataFrame'>\n",
      "RangeIndex: 8693 entries, 0 to 8692\n",
      "Data columns (total 15 columns):\n",
      " #   Column          Non-Null Count  Dtype  \n",
      "---  ------          --------------  -----  \n",
      " 0   PassengerGroup  8693 non-null   object \n",
      " 1   HomePlanet      8693 non-null   object \n",
      " 2   CryoSleep       8693 non-null   int32  \n",
      " 3   Destination     8693 non-null   object \n",
      " 4   Age             8693 non-null   float64\n",
      " 5   VIP             8693 non-null   int32  \n",
      " 6   RoomService     8693 non-null   float64\n",
      " 7   FoodCourt       8693 non-null   float64\n",
      " 8   ShoppingMall    8693 non-null   float64\n",
      " 9   Spa             8693 non-null   float64\n",
      " 10  VRDeck          8693 non-null   float64\n",
      " 11  Transported     8693 non-null   bool   \n",
      " 12  Deck            8693 non-null   float64\n",
      " 13  CabinNumber     8693 non-null   float64\n",
      " 14  Side            8693 non-null   float64\n",
      "dtypes: bool(1), float64(9), int32(2), object(3)\n",
      "memory usage: 891.5+ KB\n"
     ]
    }
   ],
   "source": [
    "df = preprocess(df)\n",
    "df.info()\n",
    "# 9246 passenger should have true cryosleep"
   ],
   "metadata": {
    "collapsed": false
   }
  },
  {
   "cell_type": "code",
   "execution_count": 8,
   "outputs": [],
   "source": [],
   "metadata": {
    "collapsed": false
   }
  },
  {
   "cell_type": "code",
   "execution_count": 9,
   "outputs": [],
   "source": [
    "# Import the old df for comparison purposes.\n",
    "df_old = pd.read_csv('train.csv')"
   ],
   "metadata": {
    "collapsed": false
   }
  },
  {
   "cell_type": "code",
   "execution_count": 10,
   "outputs": [
    {
     "data": {
      "text/plain": "<AxesSubplot: >"
     },
     "execution_count": 10,
     "metadata": {},
     "output_type": "execute_result"
    },
    {
     "data": {
      "text/plain": "<Figure size 640x480 with 1 Axes>",
      "image/png": "[encoded data removed]"
     },
     "metadata": {},
     "output_type": "display_data"
    }
   ],
   "source": [
    "df.Side.value_counts().plot(kind='bar')\n",
    "df.Deck.value_counts().plot(kind='bar')"
   ],
   "metadata": {
    "collapsed": false
   }
  },
  {
   "cell_type": "code",
   "execution_count": 11,
   "outputs": [
    {
     "data": {
      "text/plain": "<AxesSubplot: ylabel='Frequency'>"
     },
     "execution_count": 11,
     "metadata": {},
     "output_type": "execute_result"
    },
    {
     "data": {
      "text/plain": "<Figure size 640x480 with 1 Axes>",
      "image/png": "[encoded data removed]"
     },
     "metadata": {},
     "output_type": "display_data"
    }
   ],
   "source": [
    "df.CabinNumber.value_counts().plot(kind='hist')"
   ],
   "metadata": {
    "collapsed": false
   }
  },
  {
   "cell_type": "markdown",
   "source": [
    "### 3. Train a model\n",
    "Let's start predicting!"
   ],
   "metadata": {
    "collapsed": false
   }
  },
  {
   "cell_type": "code",
   "execution_count": 12,
   "outputs": [],
   "source": [
    "# Function to transform the data to a readable version\n",
    "def transform_data(passed_X):\n",
    "    # We'll fit our categorical data with get_dummies()\n",
    "    categorical_features = ['HomePlanet', 'Destination', 'Deck', 'Side']\n",
    "    passed_X = pd.get_dummies(passed_X, prefix=categorical_features, columns=categorical_features)\n",
    "\n",
    "    return passed_X"
   ],
   "metadata": {
    "collapsed": false
   }
  },
  {
   "cell_type": "code",
   "execution_count": 56,
   "outputs": [
    {
     "data": {
      "text/plain": "0.8033352501437608"
     },
     "execution_count": 56,
     "metadata": {},
     "output_type": "execute_result"
    }
   ],
   "source": [
    "# We'll try the simple, stock RandomForestClassifier first.\n",
    "from sklearn.ensemble import RandomForestClassifier\n",
    "from sklearn.model_selection import train_test_split\n",
    "from sklearn.preprocessing import MinMaxScaler\n",
    "\n",
    "X = df.drop(['Transported'], axis=1)\n",
    "y = df['Transported']\n",
    "\n",
    "X = transform_data(X)\n",
    "# Scale\n",
    "X_train, X_test, y_train, y_test = train_test_split(X, y, test_size=0.2,\n",
    "                                                    random_state=42)\n",
    "\n",
    "clf = RandomForestClassifier(random_state=42, n_estimators=3000, min_samples_split=5,\n",
    "                             min_samples_leaf=5, max_features='sqrt', max_depth=20,\n",
    "                             criterion='entropy', n_jobs=-1)\n",
    "clf.fit(X_train, y_train)\n",
    "clf.score(X_test, y_test)"
   ],
   "metadata": {
    "collapsed": false
   }
  },
  {
   "cell_type": "code",
   "execution_count": 14,
   "outputs": [
    {
     "data": {
      "text/plain": "<Figure size 640x480 with 1 Axes>",
      "image/png": "[encoded data removed]"
     },
     "metadata": {},
     "output_type": "display_data"
    }
   ],
   "source": [
    "def plot_features(columns, importances, n=20):\n",
    "    df = (pd.DataFrame({'features': columns,\n",
    "                        'feature_importances': importances})\n",
    "          .sort_values('feature_importances', ascending=False)\n",
    "          .reset_index(drop=True)\n",
    "          )\n",
    "\n",
    "    fix, ax = plt.subplots()\n",
    "    ax.barh(df['features'][:n], df['feature_importances'][:n])\n",
    "    ax.set_ylabel(\"Features\")\n",
    "    ax.set_xlabel(\"Feature Importances\")\n",
    "    ax.invert_yaxis()\n",
    "\n",
    "\n",
    "plot_features(X.columns, clf.feature_importances_)"
   ],
   "metadata": {
    "collapsed": false
   }
  },
  {
   "cell_type": "markdown",
   "source": [
    "As suspected their location plays a big role since only part of the ship got hit (see 'CabinNumber'). Group plays a role since they were likely together. Expenditures play a role since it might have determined if they were in the cabin or not. CryoSleep for the same reason. Surprisingly decks didn't play a big role."
   ],
   "metadata": {
    "collapsed": false
   }
  },
  {
   "cell_type": "code",
   "execution_count": 15,
   "outputs": [],
   "source": [
    "# Let's tune the model.\n",
    "# from sklearn.model_selection import GridSearchCV\n",
    "#\n",
    "# tuning_params = {'n_estimators': [100, 1000, 5000, 10000],\n",
    "#                  'max_depth': [None, 3, 5],\n",
    "#                  'min_samples_split':(2, 5, 10, 20),\n",
    "#                  'min_samples_leaf': (2, 5, 10, 20),\n",
    "#                  'max_features': [0.5, 1, \"sqrt\"]}\n",
    "#\n",
    "# gs_clf = GridSearchCV(estimator=clf, param_grid=tuning_params, cv=3, verbose=0, n_jobs=-1)\n",
    "# gs_clf.fit(X, y)"
   ],
   "metadata": {
    "collapsed": false
   }
  },
  {
   "cell_type": "code",
   "execution_count": 37,
   "outputs": [
    {
     "name": "stdout",
     "output_type": "stream",
     "text": [
      "45.61601758003235 seconds elapsed\n",
      "0.7998849913743531\n",
      "{'min_samples_split': 2, 'min_samples_leaf': 5, 'max_features': 'sqrt', 'max_depth': None, 'criterion': 'entropy'}\n"
     ]
    }
   ],
   "source": [
    "from sklearn.model_selection import RandomizedSearchCV\n",
    "import time\n",
    "\n",
    "start = time.time()\n",
    "\n",
    "tuning_params = {\n",
    "                 'max_depth': [None, 3, 5],\n",
    "                 'min_samples_split':(2, 5, 10, 20),\n",
    "                 'criterion': ['gini', 'entropy', 'log_loss'],\n",
    "                 'min_samples_leaf': (2, 5, 10, 20),\n",
    "                 'max_features': [0.5, 1, \"sqrt\"]}\n",
    "\n",
    "gs_clf = RandomizedSearchCV(estimator=clf, n_iter=100, param_distributions=tuning_params, cv=2, verbose=0, n_jobs=10, random_state=42)\n",
    "gs_clf.fit(X_train, y_train)\n",
    "\n",
    "end = time.time()\n",
    "print(end - start, 'seconds elapsed')\n",
    "\n",
    "print(gs_clf.score(X_test, y_test))\n",
    "print(gs_clf.best_params_)"
   ],
   "metadata": {
    "collapsed": false
   }
  },
  {
   "cell_type": "markdown",
   "source": [
    "{'n_estimators': 10000, 'min_samples_split': 10, 'min_samples_leaf': 5, 'max_features': 'sqrt', 'max_depth': None}\n",
    "0.803"
   ],
   "metadata": {
    "collapsed": false
   }
  },
  {
   "cell_type": "code",
   "execution_count": 17,
   "outputs": [],
   "source": [
    "def evaluation_block_classifier(model, X, y, X_test, y_test):\n",
    "\n",
    "    \"\"\"\n",
    "    :param model: name of classifier\n",
    "    :param X: name of X data (non-target)\n",
    "    :param y: name of y data (target)\n",
    "    :param X_test: name of X test data (non-target)\n",
    "    :param y_test: name of y test data (target)\n",
    "    :param roc_graph: boolean to determine if ROC graph is plotted and displayed\n",
    "    \"\"\"\n",
    "\n",
    "    from sklearn.metrics import accuracy_score, precision_score, recall_score, f1_score, roc_curve, roc_auc_score\n",
    "    from sklearn.model_selection import cross_val_score\n",
    "    from numpy import mean as npmean\n",
    "    import matplotlib.pyplot as plt\n",
    "\n",
    "    # Get y_preds\n",
    "    preds = model.predict(X_test)\n",
    "\n",
    "    # Evaluation block for singular metrics (non-cross validated)\n",
    "    print(\"Singular classifier metrics on test set:\")\n",
    "    print(f'Accuracy: {accuracy_score(y_test, preds)*100:.2f}%')\n",
    "    print(f'Precision: {precision_score(y_test, preds)}')\n",
    "    print(f'Recall: {recall_score(y_test, preds)}')\n",
    "    print(f'F1: {f1_score(y_test, preds)}')\n",
    "    print('')\n",
    "\n",
    "    # Evaluation block for cross val\n",
    "    print(\"Cross validation classifier metrics on test set:\")\n",
    "    print(f'Accuracy: {npmean(cross_val_score(model, X, y, cv=5, scoring=\"accuracy\"))*100:.2f}%')\n",
    "    print(f'Precision: {npmean(cross_val_score(model, X, y, cv=5, scoring=\"precision\"))}')\n",
    "    print(f'Recall: {npmean(cross_val_score(model, X, y, cv=5, scoring=\"recall\"))}')\n",
    "    print(f'F1: {npmean(cross_val_score(model, X, y, cv=5, scoring=\"f1\"))}')\n",
    "    print('')\n",
    "\n",
    "    y_probs = model.predict_proba(X_test)\n",
    "    y_probs_positive = y_probs[:, 1]\n",
    "\n",
    "\n",
    "    # Define and gather data to plot ROC curve\n",
    "\n",
    "    fpr, tpr, thresholds = roc_curve(y_test, y_probs_positive)\n",
    "\n",
    "    def plot_roc_curve(fpr, tpr):\n",
    "\n",
    "        # Plots our ROC curve given the FPR and TPR\n",
    "        plt.plot(fpr, tpr, color='orange', label=\"ROC\")\n",
    "\n",
    "        # Plot line with no predictive power (baseline)\n",
    "        plt.plot([0,1], [0,1], color='darkblue', linestyle='--', label='Guessing')\n",
    "\n",
    "        # Customize\n",
    "        plt.xlabel('False positive rate (FPR)')\n",
    "        plt.ylabel('True positive rate (TPR)')\n",
    "        plt.title('ROC Curve')\n",
    "        plt.legend()\n",
    "        plt.show()\n",
    "\n",
    "    plot_roc_curve(fpr, tpr)\n",
    "    print(f'ROC AUC score: {roc_auc_score(y_test, y_probs_positive)}')"
   ],
   "metadata": {
    "collapsed": false
   }
  },
  {
   "cell_type": "code",
   "execution_count": 18,
   "outputs": [
    {
     "name": "stdout",
     "output_type": "stream",
     "text": [
      "Singular classifier metrics on test set:\n",
      "Accuracy: 79.93%\n",
      "Precision: 0.7942157953281423\n",
      "Recall: 0.8132118451025057\n",
      "F1: 0.8036015756893641\n",
      "\n",
      "Cross validation classifier metrics on test set:\n",
      "Accuracy: 77.87%\n",
      "Precision: 0.8534234180881498\n",
      "Recall: 0.696915329419439\n",
      "F1: 0.7529139164562831\n",
      "\n"
     ]
    },
    {
     "data": {
      "text/plain": "<Figure size 640x480 with 1 Axes>",
      "image/png": "[encoded data removed]"
     },
     "metadata": {},
     "output_type": "display_data"
    },
    {
     "name": "stdout",
     "output_type": "stream",
     "text": [
      "ROC AUC score: 0.8867847155529804\n"
     ]
    }
   ],
   "source": [
    "evaluation_block_classifier(clf, X, y, X_test, y_test)"
   ],
   "metadata": {
    "collapsed": false
   }
  },
  {
   "cell_type": "markdown",
   "source": [
    "I'm getting a 80.3% score with RF. Let's try a Linear SVC."
   ],
   "metadata": {
    "collapsed": false
   }
  },
  {
   "cell_type": "code",
   "execution_count": 19,
   "outputs": [
    {
     "name": "stderr",
     "output_type": "stream",
     "text": [
      "H:\\kaggle\\spaceship-titanic\\venv\\lib\\site-packages\\sklearn\\svm\\_base.py:1244: ConvergenceWarning: Liblinear failed to converge, increase the number of iterations.\n",
      "  warnings.warn(\n"
     ]
    },
    {
     "data": {
      "text/plain": "0.7814836112708453"
     },
     "execution_count": 19,
     "metadata": {},
     "output_type": "execute_result"
    }
   ],
   "source": [
    "from sklearn.svm import LinearSVC\n",
    "from sklearn.model_selection import train_test_split\n",
    "from sklearn.preprocessing import StandardScaler\n",
    "\n",
    "X = df.drop(['Transported'], axis=1)\n",
    "y = df['Transported']\n",
    "\n",
    "X = transform_data(X)\n",
    "scaler = StandardScaler()\n",
    "X = scaler.fit_transform(X)\n",
    "X_train, X_test, y_train, y_test = train_test_split(X, y, test_size=0.2,\n",
    "                                                    random_state=42)\n",
    "\n",
    "clf_svc = LinearSVC(random_state=42, max_iter=10000)\n",
    "clf_svc.fit(X_train, y_train)\n",
    "clf_svc.score(X_test, y_test)"
   ],
   "metadata": {
    "collapsed": false
   }
  },
  {
   "cell_type": "markdown",
   "source": [
    "Now let's try KNeighbors"
   ],
   "metadata": {
    "collapsed": false
   }
  },
  {
   "cell_type": "code",
   "execution_count": 20,
   "outputs": [
    {
     "data": {
      "text/plain": "0.7492811960897068"
     },
     "execution_count": 20,
     "metadata": {},
     "output_type": "execute_result"
    }
   ],
   "source": [
    "from sklearn.neighbors import KNeighborsClassifier\n",
    "from sklearn.model_selection import train_test_split\n",
    "from sklearn.preprocessing import StandardScaler\n",
    "\n",
    "X = df.drop(['Transported'], axis=1)\n",
    "y = df['Transported']\n",
    "\n",
    "X = transform_data(X)\n",
    "X_train, X_test, y_train, y_test = train_test_split(X, y, test_size=0.2,\n",
    "                                                    random_state=42)\n",
    "\n",
    "clf_kne = KNeighborsClassifier()\n",
    "clf_kne.fit(X_train, y_train)\n",
    "clf_kne.score(X_test, y_test)"
   ],
   "metadata": {
    "collapsed": false
   }
  },
  {
   "cell_type": "markdown",
   "source": [
    "Looks like RF is our winner so far."
   ],
   "metadata": {
    "collapsed": false
   }
  },
  {
   "cell_type": "markdown",
   "source": [
    "### 4. Predict and Submit"
   ],
   "metadata": {
    "collapsed": false
   }
  },
  {
   "cell_type": "code",
   "execution_count": 21,
   "outputs": [
    {
     "name": "stdout",
     "output_type": "stream",
     "text": [
      "<class 'pandas.core.frame.DataFrame'>\n",
      "RangeIndex: 4277 entries, 0 to 4276\n",
      "Data columns (total 13 columns):\n",
      " #   Column        Non-Null Count  Dtype  \n",
      "---  ------        --------------  -----  \n",
      " 0   PassengerId   4277 non-null   object \n",
      " 1   HomePlanet    4190 non-null   object \n",
      " 2   CryoSleep     4184 non-null   object \n",
      " 3   Cabin         4177 non-null   object \n",
      " 4   Destination   4185 non-null   object \n",
      " 5   Age           4186 non-null   float64\n",
      " 6   VIP           4184 non-null   object \n",
      " 7   RoomService   4195 non-null   float64\n",
      " 8   FoodCourt     4171 non-null   float64\n",
      " 9   ShoppingMall  4179 non-null   float64\n",
      " 10  Spa           4176 non-null   float64\n",
      " 11  VRDeck        4197 non-null   float64\n",
      " 12  Name          4183 non-null   object \n",
      "dtypes: float64(6), object(7)\n",
      "memory usage: 434.5+ KB\n"
     ]
    }
   ],
   "source": [
    "# Let's predict and submit our score for evaluation and see where we're at.\n",
    "test_df = pd.read_csv('test.csv')\n",
    "test_df.info()"
   ],
   "metadata": {
    "collapsed": false
   }
  },
  {
   "cell_type": "code",
   "execution_count": 57,
   "outputs": [
    {
     "data": {
      "text/plain": "RandomForestClassifier(criterion='entropy', max_depth=20, min_samples_leaf=5,\n                       min_samples_split=5, n_estimators=3000, n_jobs=-1,\n                       random_state=42)",
      "text/html": "<style>#sk-container-id-2 {color: black;background-color: white;}#sk-container-id-2 pre{padding: 0;}#sk-container-id-2 div.sk-toggleable {background-color: white;}#sk-container-id-2 label.sk-toggleable__label {cursor: pointer;display: block;width: 100%;margin-bottom: 0;padding: 0.3em;box-sizing: border-box;text-align: center;}#sk-container-id-2 label.sk-toggleable__label-arrow:before {content: \"▸\";float: left;margin-right: 0.25em;color: #696969;}#sk-container-id-2 label.sk-toggleable__label-arrow:hover:before {color: black;}#sk-container-id-2 div.sk-estimator:hover label.sk-toggleable__label-arrow:before {color: black;}#sk-container-id-2 div.sk-toggleable__content {max-height: 0;max-width: 0;overflow: hidden;text-align: left;background-color: #f0f8ff;}#sk-container-id-2 div.sk-toggleable__content pre {margin: 0.2em;color: black;border-radius: 0.25em;background-color: #f0f8ff;}#sk-container-id-2 input.sk-toggleable__control:checked~div.sk-toggleable__content {max-height: 200px;max-width: 100%;overflow: auto;}#sk-container-id-2 input.sk-toggleable__control:checked~label.sk-toggleable__label-arrow:before {content: \"▾\";}#sk-container-id-2 div.sk-estimator input.sk-toggleable__control:checked~label.sk-toggleable__label {background-color: #d4ebff;}#sk-container-id-2 div.sk-label input.sk-toggleable__control:checked~label.sk-toggleable__label {background-color: #d4ebff;}#sk-container-id-2 input.sk-hidden--visually {border: 0;clip: rect(1px 1px 1px 1px);clip: rect(1px, 1px, 1px, 1px);height: 1px;margin: -1px;overflow: hidden;padding: 0;position: absolute;width: 1px;}#sk-container-id-2 div.sk-estimator {font-family: monospace;background-color: #f0f8ff;border: 1px dotted black;border-radius: 0.25em;box-sizing: border-box;margin-bottom: 0.5em;}#sk-container-id-2 div.sk-estimator:hover {background-color: #d4ebff;}#sk-container-id-2 div.sk-parallel-item::after {content: \"\";width: 100%;border-bottom: 1px solid gray;flex-grow: 1;}#sk-container-id-2 div.sk-label:hover label.sk-toggleable__label {background-color: #d4ebff;}#sk-container-id-2 div.sk-serial::before {content: \"\";position: absolute;border-left: 1px solid gray;box-sizing: border-box;top: 0;bottom: 0;left: 50%;z-index: 0;}#sk-container-id-2 div.sk-serial {display: flex;flex-direction: column;align-items: center;background-color: white;padding-right: 0.2em;padding-left: 0.2em;position: relative;}#sk-container-id-2 div.sk-item {position: relative;z-index: 1;}#sk-container-id-2 div.sk-parallel {display: flex;align-items: stretch;justify-content: center;background-color: white;position: relative;}#sk-container-id-2 div.sk-item::before, #sk-container-id-2 div.sk-parallel-item::before {content: \"\";position: absolute;border-left: 1px solid gray;box-sizing: border-box;top: 0;bottom: 0;left: 50%;z-index: -1;}#sk-container-id-2 div.sk-parallel-item {display: flex;flex-direction: column;z-index: 1;position: relative;background-color: white;}#sk-container-id-2 div.sk-parallel-item:first-child::after {align-self: flex-end;width: 50%;}#sk-container-id-2 div.sk-parallel-item:last-child::after {align-self: flex-start;width: 50%;}#sk-container-id-2 div.sk-parallel-item:only-child::after {width: 0;}#sk-container-id-2 div.sk-dashed-wrapped {border: 1px dashed gray;margin: 0 0.4em 0.5em 0.4em;box-sizing: border-box;padding-bottom: 0.4em;background-color: white;}#sk-container-id-2 div.sk-label label {font-family: monospace;font-weight: bold;display: inline-block;line-height: 1.2em;}#sk-container-id-2 div.sk-label-container {text-align: center;}#sk-container-id-2 div.sk-container {/* jupyter's `normalize.less` sets `[hidden] { display: none; }` but bootstrap.min.css set `[hidden] { display: none !important; }` so we also need the `!important` here to be able to override the default hidden behavior on the sphinx rendered scikit-learn.org. See: https://github.com/scikit-learn/scikit-learn/issues/21755 */display: inline-block !important;position: relative;}#sk-container-id-2 div.sk-text-repr-fallback {display: none;}</style><div id=\"sk-container-id-2\" class=\"sk-top-container\"><div class=\"sk-text-repr-fallback\"><pre>RandomForestClassifier(criterion=&#x27;entropy&#x27;, max_depth=20, min_samples_leaf=5,\n                       min_samples_split=5, n_estimators=3000, n_jobs=-1,\n                       random_state=42)</pre><b>In a Jupyter environment, please rerun this cell to show the HTML representation or trust the notebook. <br />On GitHub, the HTML representation is unable to render, please try loading this page with nbviewer.org.</b></div><div class=\"sk-container\" hidden><div class=\"sk-item\"><div class=\"sk-estimator sk-toggleable\"><input class=\"sk-toggleable__control sk-hidden--visually\" id=\"sk-estimator-id-2\" type=\"checkbox\" checked><label for=\"sk-estimator-id-2\" class=\"sk-toggleable__label sk-toggleable__label-arrow\">RandomForestClassifier</label><div class=\"sk-toggleable__content\"><pre>RandomForestClassifier(criterion=&#x27;entropy&#x27;, max_depth=20, min_samples_leaf=5,\n                       min_samples_split=5, n_estimators=3000, n_jobs=-1,\n                       random_state=42)</pre></div></div></div></div></div>"
     },
     "execution_count": 57,
     "metadata": {},
     "output_type": "execute_result"
    }
   ],
   "source": [
    "# Retrain model on full training set.\n",
    "from sklearn.ensemble import RandomForestClassifier\n",
    "from sklearn.model_selection import train_test_split\n",
    "from sklearn.preprocessing import MinMaxScaler\n",
    "\n",
    "X = df.drop(['Transported'], axis=1)\n",
    "y = df['Transported']\n",
    "\n",
    "X = transform_data(X)\n",
    "\n",
    "clf = RandomForestClassifier(random_state=42, n_estimators=3000, min_samples_split=5,\n",
    "                             min_samples_leaf=5, max_features='sqrt', max_depth=20,\n",
    "                             criterion='entropy', n_jobs=-1)\n",
    "clf.fit(X, y)"
   ],
   "metadata": {
    "collapsed": false
   }
  },
  {
   "cell_type": "code",
   "execution_count": 58,
   "outputs": [],
   "source": [
    "def predict_and_package(passed_df):\n",
    "    # Grab passenger ids for final submission\n",
    "    test_df_passids = pd.DataFrame(passed_df['PassengerId'])\n",
    "    # Create the predictions\n",
    "    test_df = preprocess(passed_df)\n",
    "    test_df = transform_data(test_df)\n",
    "    test_preds = clf.predict(test_df)\n",
    "    # Transpose and concatenate\n",
    "    test_preds_df = pd.DataFrame(test_preds, columns=['Transported'])\n",
    "    test_preds_df['Transported'] = test_preds_df['Transported'].astype(bool)\n",
    "    print(test_preds_df.head())\n",
    "    submission = pd.concat([test_df_passids, test_preds_df], axis=1, join='inner')\n",
    "\n",
    "    return submission"
   ],
   "metadata": {
    "collapsed": false
   }
  },
  {
   "cell_type": "code",
   "execution_count": 59,
   "outputs": [
    {
     "name": "stdout",
     "output_type": "stream",
     "text": [
      "Filling  ['RoomService', 'FoodCourt', 'ShoppingMall', 'Spa', 'VRDeck'] nan values with 0.\n",
      "Fixed 87 values in HomePlanet .\n",
      "Fixed 93 values in CryoSleep .\n",
      "Fixed 100 values in Cabin .\n",
      "Fixed 92 values in Destination .\n",
      "Fixed 93 values in VIP .\n",
      "4216 cabin values determined from Cabin feature, 61 cabin values missing.\n",
      "   Transported\n",
      "0         True\n",
      "1        False\n",
      "2         True\n",
      "3         True\n",
      "4         True\n",
      "  PassengerId  Transported\n",
      "0     0013_01         True\n",
      "1     0018_01        False\n",
      "2     0019_01         True\n",
      "3     0021_01         True\n",
      "4     0023_01         True\n",
      "<class 'pandas.core.frame.DataFrame'>\n",
      "RangeIndex: 4277 entries, 0 to 4276\n",
      "Data columns (total 2 columns):\n",
      " #   Column       Non-Null Count  Dtype \n",
      "---  ------       --------------  ----- \n",
      " 0   PassengerId  4277 non-null   object\n",
      " 1   Transported  4277 non-null   bool  \n",
      "dtypes: bool(1), object(1)\n",
      "memory usage: 37.7+ KB\n",
      "None\n"
     ]
    }
   ],
   "source": [
    "submission = predict_and_package(test_df)\n",
    "print(submission.head())\n",
    "print(submission.info())"
   ],
   "metadata": {
    "collapsed": false
   }
  },
  {
   "cell_type": "code",
   "execution_count": 60,
   "outputs": [],
   "source": [
    "submission.to_csv('submission.csv', index=False)"
   ],
   "metadata": {
    "collapsed": false
   }
  },
  {
   "cell_type": "markdown",
   "source": [
    "# Results\n",
    "\n",
    "## First results: 0.80079 Rank 923\n",
    "\n",
    "## Second Results: 0.80219 Rank 817\n",
    "### Second iteration changes:\n",
    "- Total expenses added, used, and removed when it was causing the model to favor that column too much.\n",
    "- Children are 12 and under, since expenses only show up at 13 years old.\n",
    "- If someone spent nothing, and they're an adult (over 13 years old), and they have a nan for cryosleep then we can set them to true because they were likely asleep.\n",
    "\n",
    "## Third Results: 0.80289 Rank 761\n",
    "### Third iteration changes:\n",
    "- Added criterion: 'entropy' to clf estimator\n",
    "- Trained estimator on entire training set prior to submission\n",
    "\n",
    "## Fourth Results: 0.80360 Rank 683\n",
    "### Fourth iteration changes:\n",
    "- Further tuned clf parameters\n",
    "\n",
    "### Notes:\n",
    "- Need to extrapolate missing expenditures\n",
    "- Can find people age 13 >= that have nan expenditures and extrapolate the median expenditure in that column\n",
    "- Check to see if expenditures go by age? Older and they spend more?\n",
    "- Could also use age and deck to help extrapolate missing expenditures.. presumably lower deck numbers (higher on the ship) will have more money\n",
    "- Does destination or port of entry have anything to do with how much they spent? Can that be used?"
   ],
   "metadata": {
    "collapsed": false
   }
  },
  {
   "cell_type": "code",
   "execution_count": 24,
   "outputs": [],
   "source": [],
   "metadata": {
    "collapsed": false
   }
  }
 ],
 "metadata": {
  "kernelspec": {
   "display_name": "Python 3",
   "language": "python",
   "name": "python3"
  },
  "language_info": {
   "codemirror_mode": {
    "name": "ipython",
    "version": 2
   },
   "file_extension": ".py",
   "mimetype": "text/x-python",
   "name": "python",
   "nbconvert_exporter": "python",
   "pygments_lexer": "ipython2",
   "version": "2.7.6"
  }
 },
 "nbformat": 4,
 "nbformat_minor": 0
}
